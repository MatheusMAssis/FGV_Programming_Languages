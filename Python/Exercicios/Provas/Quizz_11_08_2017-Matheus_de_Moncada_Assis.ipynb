{
 "cells": [
  {
   "cell_type": "markdown",
   "metadata": {},
   "source": [
    "1 - Quais são as estruturas de dados primitivas mais comuns na linguagem Python? Exemplifique criando variáveis de cada uma destas estruturas."
   ]
  },
  {
   "cell_type": "code",
   "execution_count": 51,
   "metadata": {
    "collapsed": true
   },
   "outputs": [],
   "source": [
    "string = '1012'"
   ]
  },
  {
   "cell_type": "code",
   "execution_count": 57,
   "metadata": {
    "collapsed": true
   },
   "outputs": [],
   "source": [
    "inteiro = 12"
   ]
  },
  {
   "cell_type": "code",
   "execution_count": 40,
   "metadata": {
    "collapsed": true
   },
   "outputs": [],
   "source": [
    "float1 = 12.7"
   ]
  },
  {
   "cell_type": "code",
   "execution_count": 45,
   "metadata": {
    "collapsed": true
   },
   "outputs": [],
   "source": [
    "complexo = 12j"
   ]
  },
  {
   "cell_type": "code",
   "execution_count": 55,
   "metadata": {
    "collapsed": true
   },
   "outputs": [],
   "source": [
    "lista = [1, 2, 3, 4]"
   ]
  },
  {
   "cell_type": "code",
   "execution_count": 60,
   "metadata": {
    "collapsed": true
   },
   "outputs": [],
   "source": [
    "booleano = string.isupper()"
   ]
  },
  {
   "cell_type": "code",
   "execution_count": 61,
   "metadata": {},
   "outputs": [
    {
     "data": {
      "text/plain": [
       "False"
      ]
     },
     "execution_count": 61,
     "metadata": {},
     "output_type": "execute_result"
    }
   ],
   "source": [
    "booleano"
   ]
  },
  {
   "cell_type": "markdown",
   "metadata": {},
   "source": [
    "2 - Dê pelo menos 5 exemplos de conversões entre tipos de dados, utilizando as variáveis criadas na questão anterior  "
   ]
  },
  {
   "cell_type": "code",
   "execution_count": 84,
   "metadata": {},
   "outputs": [
    {
     "data": {
      "text/plain": [
       "12"
      ]
     },
     "execution_count": 84,
     "metadata": {},
     "output_type": "execute_result"
    }
   ],
   "source": [
    "int(float1)\n",
    "#float em inteiro"
   ]
  },
  {
   "cell_type": "code",
   "execution_count": 85,
   "metadata": {},
   "outputs": [
    {
     "data": {
      "text/plain": [
       "1012.0"
      ]
     },
     "execution_count": 85,
     "metadata": {},
     "output_type": "execute_result"
    }
   ],
   "source": [
    "float(string)\n",
    "#string em float"
   ]
  },
  {
   "cell_type": "code",
   "execution_count": 86,
   "metadata": {},
   "outputs": [
    {
     "data": {
      "text/plain": [
       "['1', '0', '1', '2']"
      ]
     },
     "execution_count": 86,
     "metadata": {},
     "output_type": "execute_result"
    }
   ],
   "source": [
    "list(string)\n",
    "#string em lista"
   ]
  },
  {
   "cell_type": "code",
   "execution_count": 87,
   "metadata": {},
   "outputs": [
    {
     "data": {
      "text/plain": [
       "'12'"
      ]
     },
     "execution_count": 87,
     "metadata": {},
     "output_type": "execute_result"
    }
   ],
   "source": [
    "str(inteiro)\n",
    "#inteiro em string"
   ]
  },
  {
   "cell_type": "code",
   "execution_count": 88,
   "metadata": {},
   "outputs": [
    {
     "data": {
      "text/plain": [
       "12.0"
      ]
     },
     "execution_count": 88,
     "metadata": {},
     "output_type": "execute_result"
    }
   ],
   "source": [
    "float(inteiro)\n",
    "#inteiro em float"
   ]
  },
  {
   "cell_type": "markdown",
   "metadata": {},
   "source": [
    "3- Exemplifique o uso de algumas primitivas, de forma isolada ou combinada, para criar as seguintes estruturas de dados:  \n",
    "\n",
    "+ Um registro médico\n",
    "+ Uma matriz de pixels em formato RGB\n",
    "+ Um conjunto de coordenadas geográficas representando a sede da prefeitura e do corpo de bombeiros em 4 cidades diferentes"
   ]
  },
  {
   "cell_type": "code",
   "execution_count": 64,
   "metadata": {
    "collapsed": true
   },
   "outputs": [],
   "source": [
    "RegistroMedico = { 'Paciente': 'Nome', 'Idade': 'x', 'Altura': 'y', 'Peso': 'z', 'Alergias': 'a', 'Doenças Graves': 'd' }\n",
    "#A utilização de um dicionário para um registro médico facilita o acesso às informações mais relevantes ao paciente."
   ]
  },
  {
   "cell_type": "code",
   "execution_count": 74,
   "metadata": {
    "collapsed": true
   },
   "outputs": [],
   "source": [
    "Pixels = {'Linha1': {'Coluna1': 'xyz', 'Coluna2': 'xyz', 'ColunaN': 'xyz'}, 'Linha2': {'Coluna1': 'xyz', 'Coluna2': 'xyz', 'ColunaN': 'xyz'}, 'LinhaN': {'Coluna1':'xyz', 'Coluna2': 'xyz', 'ColunaN': 'xyz'}}\n",
    "#Por último, a utilização de um dicionário sintetiza as propriedades de cada pixel para visualização."
   ]
  },
  {
   "cell_type": "code",
   "execution_count": 70,
   "metadata": {
    "collapsed": true
   },
   "outputs": [],
   "source": [
    "Coordenadas = { 'Cidade1': {'Prefeitura': '(x1,y1)', 'Corpo de Bombeiro': '(z1,w1)'}, 'Cidade2': {'Prefeitura': '(x2,y2)', 'Corpo de Bombeiro': '(z2,w2)'}, 'Cidade3': {'Prefeitura': '(x3,y3)', 'Corpo de Bombeiro': '(z3,w3)'}, 'Cidade4': {'Prefeitura': '(x4,y4)', 'Corpo de Bombeiro': '(z4,w4)'}}\n",
    "#Mais uma vez, o dicionário se torna a melhor opção de visualização para o conjunto de dados requisitados."
   ]
  },
  {
   "cell_type": "code",
   "execution_count": 76,
   "metadata": {},
   "outputs": [
    {
     "data": {
      "text/plain": [
       "{'Alergias': 'a',\n",
       " 'Altura': 'y',\n",
       " 'Doenças Graves': 'd',\n",
       " 'Idade': 'x',\n",
       " 'Paciente': 'Nome',\n",
       " 'Peso': 'z'}"
      ]
     },
     "execution_count": 76,
     "metadata": {},
     "output_type": "execute_result"
    }
   ],
   "source": [
    "RegistroMedico"
   ]
  },
  {
   "cell_type": "code",
   "execution_count": 77,
   "metadata": {},
   "outputs": [
    {
     "data": {
      "text/plain": [
       "{'Linha1': {'Coluna1': 'xyz', 'Coluna2': 'xyz', 'ColunaN': 'xyz'},\n",
       " 'Linha2': {'Coluna1': 'xyz', 'Coluna2': 'xyz', 'ColunaN': 'xyz'},\n",
       " 'LinhaN': {'Coluna1': 'xyz', 'Coluna2': 'xyz', 'ColunaN': 'xyz'}}"
      ]
     },
     "execution_count": 77,
     "metadata": {},
     "output_type": "execute_result"
    }
   ],
   "source": [
    "Pixels"
   ]
  },
  {
   "cell_type": "code",
   "execution_count": 78,
   "metadata": {},
   "outputs": [
    {
     "data": {
      "text/plain": [
       "{'Cidade1': {'Corpo de Bombeiro': '(z1,w1)', 'Prefeitura': '(x1,y1)'},\n",
       " 'Cidade2': {'Corpo de Bombeiro': '(z2,w2)', 'Prefeitura': '(x2,y2)'},\n",
       " 'Cidade3': {'Corpo de Bombeiro': '(z3,w3)', 'Prefeitura': '(x3,y3)'},\n",
       " 'Cidade4': {'Corpo de Bombeiro': '(z4,w4)', 'Prefeitura': '(x4,y4)'}}"
      ]
     },
     "execution_count": 78,
     "metadata": {},
     "output_type": "execute_result"
    }
   ],
   "source": [
    "Coordenadas"
   ]
  },
  {
   "cell_type": "markdown",
   "metadata": {},
   "source": [
    "4- Exemplifique o acesso aos elementos de informação das estruturas criadas na questão anterior."
   ]
  },
  {
   "cell_type": "code",
   "execution_count": 80,
   "metadata": {},
   "outputs": [
    {
     "data": {
      "text/plain": [
       "'Nome'"
      ]
     },
     "execution_count": 80,
     "metadata": {},
     "output_type": "execute_result"
    }
   ],
   "source": [
    "#Para acessar alguma informação dentro de cada arquivo, é necessário usar o formato Arquivo['Diretório1']['Diretório2'][DiretórioN']\n",
    "RegistroMedico['Paciente']"
   ]
  },
  {
   "cell_type": "code",
   "execution_count": 81,
   "metadata": {},
   "outputs": [
    {
     "data": {
      "text/plain": [
       "'xyz'"
      ]
     },
     "execution_count": 81,
     "metadata": {},
     "output_type": "execute_result"
    }
   ],
   "source": [
    "Pixels['Linha1']['ColunaN']"
   ]
  },
  {
   "cell_type": "code",
   "execution_count": 82,
   "metadata": {},
   "outputs": [
    {
     "data": {
      "text/plain": [
       "{'Corpo de Bombeiro': '(z1,w1)', 'Prefeitura': '(x1,y1)'}"
      ]
     },
     "execution_count": 82,
     "metadata": {},
     "output_type": "execute_result"
    }
   ],
   "source": [
    "Coordenadas['Cidade1']"
   ]
  },
  {
   "cell_type": "markdown",
   "metadata": {},
   "source": [
    "5- Explique o que são, exemplifique, e mostre algumas características de:  \n",
    "\n",
    "+ Tipos mutáveis e tipos imutáveis  \n",
    "+ Tipos \"container\"\n",
    "+ Tipos sequenciais\n"
   ]
  },
  {
   "cell_type": "code",
   "execution_count": 45,
   "metadata": {},
   "outputs": [
    {
     "data": {
      "text/plain": [
       "['M', 'a', 't', 'h', 'e']"
      ]
     },
     "execution_count": 45,
     "metadata": {},
     "output_type": "execute_result"
    }
   ],
   "source": [
    "#Tipos imutáveis são aqueles que não podem ser alterados, ou seja, eles mantém seu estado após criados.\n",
    "Imut = 'Matheus'\n",
    "#Imut.pop() é impossível de ser realizado devido à imutabilidade da string\n",
    "#Tipos mutáveis são aqueles que podem ser alterados, ou seja, tem sua memória armazenado e transformada.\n",
    "Mut = list(Imut)\n",
    "Mut.pop()\n",
    "Mut.pop()\n",
    "Mut"
   ]
  },
  {
   "cell_type": "code",
   "execution_count": 59,
   "metadata": {},
   "outputs": [
    {
     "data": {
      "text/plain": [
       "['M', 'a', 't', 'h', 'e', 'u', 's']"
      ]
     },
     "execution_count": 59,
     "metadata": {},
     "output_type": "execute_result"
    }
   ],
   "source": [
    "#Tipos container são aqueles que podem armazenar outros tipos dentro de si.\n",
    "Cont = list(Imut)\n",
    "Cont\n",
    "#Tipos lista são considerados containers"
   ]
  },
  {
   "cell_type": "code",
   "execution_count": null,
   "metadata": {
    "collapsed": true
   },
   "outputs": [],
   "source": []
  },
  {
   "cell_type": "markdown",
   "metadata": {},
   "source": [
    "6- Exemplifique chamadas de métodos em variáveis associadas a tipos de dados que:  \n",
    "+ Não modifiquem a variável e não retornem valores à chamada do método \n",
    "+ Modifiquem a variável mas não retornem valores à chamada do método\n",
    "+ Não modifiquem a variável mas retornem valores à chamada do método\n",
    "+ Modifiquem a variável e retornem valores à chamada do método  "
   ]
  },
  {
   "cell_type": "code",
   "execution_count": null,
   "metadata": {
    "collapsed": true
   },
   "outputs": [],
   "source": []
  },
  {
   "cell_type": "code",
   "execution_count": null,
   "metadata": {
    "collapsed": true
   },
   "outputs": [],
   "source": []
  },
  {
   "cell_type": "code",
   "execution_count": null,
   "metadata": {
    "collapsed": true
   },
   "outputs": [],
   "source": []
  },
  {
   "cell_type": "code",
   "execution_count": null,
   "metadata": {
    "collapsed": true
   },
   "outputs": [],
   "source": []
  },
  {
   "cell_type": "markdown",
   "metadata": {},
   "source": [
    "7- Exemplifique o uso de métodos para:  \n",
    "+ Testar se uma string pode ser convertida para um inteiro  \n",
    "+ Testar se um conjunto é subconjunto de outro\n",
    "+ Concatenar duas listas\n",
    "+ Contar as ocorrências de um elemento em uma lista"
   ]
  },
  {
   "cell_type": "code",
   "execution_count": 27,
   "metadata": {},
   "outputs": [
    {
     "name": "stdout",
     "output_type": "stream",
     "text": [
      "False\n",
      "True\n"
     ]
    }
   ],
   "source": [
    "stri = 'Matheus'\n",
    "print(stri.isnumeric())\n",
    "stri2 = '10'\n",
    "print(stri2.isnumeric())"
   ]
  },
  {
   "cell_type": "code",
   "execution_count": 19,
   "metadata": {},
   "outputs": [
    {
     "name": "stdout",
     "output_type": "stream",
     "text": [
      "É subconjunto\n"
     ]
    }
   ],
   "source": [
    "c1 = [1,2,3]\n",
    "c2 = [1,2]\n",
    "Conjunto1 = set(c1)\n",
    "Conjunto2 = set(c2)\n",
    "inters = Conjunto1.intersection(Conjunto2)\n",
    "if inters == Conjunto2:\n",
    "    print('É subconjunto')\n",
    "else:\n",
    "    print('Não é subconjunto')"
   ]
  },
  {
   "cell_type": "code",
   "execution_count": 96,
   "metadata": {
    "collapsed": true
   },
   "outputs": [],
   "source": [
    "listaA = [1,2,3,4]\n",
    "listaB = [5,5,6,6]\n",
    "listaC = listaA + listaB"
   ]
  },
  {
   "cell_type": "code",
   "execution_count": 30,
   "metadata": {},
   "outputs": [
    {
     "name": "stdout",
     "output_type": "stream",
     "text": [
      "3\n",
      "1\n",
      "0\n",
      "4\n"
     ]
    }
   ],
   "source": [
    "listaD = [1,2,3,4,4,4,5,6,7,7,9,9,9,9]\n",
    "print(listaD.count(4))\n",
    "print(listaD.count(5))\n",
    "print(listaD.count(8))\n",
    "print(listaD.count(9))"
   ]
  },
  {
   "cell_type": "markdown",
   "metadata": {},
   "source": [
    "Deescreva, em linhas gerais, o que é uma linguagem de programação, e para que serve.  "
   ]
  },
  {
   "cell_type": "code",
   "execution_count": 90,
   "metadata": {
    "collapsed": true
   },
   "outputs": [],
   "source": [
    "#Uma linguagem de programação tem, por definição, o objetivo de ser um meio de criação de programas gerais para softwares.\n",
    "#Ou seja, de tal maneira, ela se torna responsável por definir conjuntos de regras para se criar qualquer programa dentro\n",
    "#de tal meio."
   ]
  },
  {
   "cell_type": "markdown",
   "metadata": {},
   "source": [
    "Feedback: o que você está achando do curso até agora?  "
   ]
  },
  {
   "cell_type": "code",
   "execution_count": 92,
   "metadata": {
    "collapsed": true
   },
   "outputs": [],
   "source": [
    "#Muito enriquecedor, mas acabo me sentindo um pouco preso às \"teorias\" das linguagens. Sabendo da necessidade de envolvimento\n",
    "#com a linguagem, uma das partes mais importantes, juntamente com a teoria, é o envolvimento com a aplicabilidade de tal ma-\n",
    "#téria."
   ]
  },
  {
   "cell_type": "markdown",
   "metadata": {},
   "source": []
  }
 ],
 "metadata": {
  "kernelspec": {
   "display_name": "Python 3",
   "language": "python",
   "name": "python3"
  },
  "language_info": {
   "codemirror_mode": {
    "name": "ipython",
    "version": 3
   },
   "file_extension": ".py",
   "mimetype": "text/x-python",
   "name": "python",
   "nbconvert_exporter": "python",
   "pygments_lexer": "ipython3",
   "version": "3.5.2+"
  }
 },
 "nbformat": 4,
 "nbformat_minor": 2
}
